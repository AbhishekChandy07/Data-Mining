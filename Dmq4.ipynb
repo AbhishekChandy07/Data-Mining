{
 "cells": [
  {
   "cell_type": "code",
   "execution_count": 1,
   "id": "7b604b24",
   "metadata": {},
   "outputs": [
    {
     "name": "stdout",
     "output_type": "stream",
     "text": [
      "Requirement already satisfied: efficient-apriori in c:\\users\\lenovo\\anaconda3\\lib\\site-packages (2.0.3)\n"
     ]
    },
    {
     "name": "stderr",
     "output_type": "stream",
     "text": [
      "WARNING: Ignoring invalid distribution -atplotlib (c:\\users\\lenovo\\anaconda3\\lib\\site-packages)\n",
      "WARNING: Ignoring invalid distribution -atplotlib (c:\\users\\lenovo\\anaconda3\\lib\\site-packages)\n",
      "WARNING: Ignoring invalid distribution -atplotlib (c:\\users\\lenovo\\anaconda3\\lib\\site-packages)\n",
      "WARNING: Ignoring invalid distribution -atplotlib (c:\\users\\lenovo\\anaconda3\\lib\\site-packages)\n",
      "WARNING: Ignoring invalid distribution -atplotlib (c:\\users\\lenovo\\anaconda3\\lib\\site-packages)\n",
      "WARNING: Ignoring invalid distribution -atplotlib (c:\\users\\lenovo\\anaconda3\\lib\\site-packages)\n"
     ]
    }
   ],
   "source": [
    "!pip install efficient-apriori"
   ]
  },
  {
   "cell_type": "code",
   "execution_count": 2,
   "id": "9c3c650c",
   "metadata": {},
   "outputs": [],
   "source": [
    "from efficient_apriori import apriori\n",
    "import pandas as pd"
   ]
  },
  {
   "cell_type": "code",
   "execution_count": 3,
   "id": "3660d252",
   "metadata": {},
   "outputs": [],
   "source": [
    "df=pd.read_csv(\"C:\\\\Users\\\\lenovo\\\\Downloads\\\\1000i.csv\")"
   ]
  },
  {
   "cell_type": "code",
   "execution_count": 4,
   "id": "835f2a73",
   "metadata": {},
   "outputs": [
    {
     "data": {
      "text/html": [
       "<div>\n",
       "<style scoped>\n",
       "    .dataframe tbody tr th:only-of-type {\n",
       "        vertical-align: middle;\n",
       "    }\n",
       "\n",
       "    .dataframe tbody tr th {\n",
       "        vertical-align: top;\n",
       "    }\n",
       "\n",
       "    .dataframe thead th {\n",
       "        text-align: right;\n",
       "    }\n",
       "</style>\n",
       "<table border=\"1\" class=\"dataframe\">\n",
       "  <thead>\n",
       "    <tr style=\"text-align: right;\">\n",
       "      <th></th>\n",
       "      <th>1</th>\n",
       "      <th>3</th>\n",
       "      <th>7</th>\n",
       "    </tr>\n",
       "  </thead>\n",
       "  <tbody>\n",
       "    <tr>\n",
       "      <th>0</th>\n",
       "      <td>1</td>\n",
       "      <td>4</td>\n",
       "      <td>15</td>\n",
       "    </tr>\n",
       "    <tr>\n",
       "      <th>1</th>\n",
       "      <td>1</td>\n",
       "      <td>2</td>\n",
       "      <td>49</td>\n",
       "    </tr>\n",
       "    <tr>\n",
       "      <th>2</th>\n",
       "      <td>1</td>\n",
       "      <td>5</td>\n",
       "      <td>44</td>\n",
       "    </tr>\n",
       "    <tr>\n",
       "      <th>3</th>\n",
       "      <td>2</td>\n",
       "      <td>1</td>\n",
       "      <td>1</td>\n",
       "    </tr>\n",
       "    <tr>\n",
       "      <th>4</th>\n",
       "      <td>2</td>\n",
       "      <td>2</td>\n",
       "      <td>19</td>\n",
       "    </tr>\n",
       "    <tr>\n",
       "      <th>...</th>\n",
       "      <td>...</td>\n",
       "      <td>...</td>\n",
       "      <td>...</td>\n",
       "    </tr>\n",
       "    <tr>\n",
       "      <th>3532</th>\n",
       "      <td>999</td>\n",
       "      <td>5</td>\n",
       "      <td>35</td>\n",
       "    </tr>\n",
       "    <tr>\n",
       "      <th>3533</th>\n",
       "      <td>999</td>\n",
       "      <td>2</td>\n",
       "      <td>3</td>\n",
       "    </tr>\n",
       "    <tr>\n",
       "      <th>3534</th>\n",
       "      <td>1000</td>\n",
       "      <td>4</td>\n",
       "      <td>15</td>\n",
       "    </tr>\n",
       "    <tr>\n",
       "      <th>3535</th>\n",
       "      <td>1000</td>\n",
       "      <td>3</td>\n",
       "      <td>47</td>\n",
       "    </tr>\n",
       "    <tr>\n",
       "      <th>3536</th>\n",
       "      <td>1000</td>\n",
       "      <td>3</td>\n",
       "      <td>34</td>\n",
       "    </tr>\n",
       "  </tbody>\n",
       "</table>\n",
       "<p>3537 rows × 3 columns</p>\n",
       "</div>"
      ],
      "text/plain": [
       "         1  3   7\n",
       "0        1  4  15\n",
       "1        1  2  49\n",
       "2        1  5  44\n",
       "3        2  1   1\n",
       "4        2  2  19\n",
       "...    ... ..  ..\n",
       "3532   999  5  35\n",
       "3533   999  2   3\n",
       "3534  1000  4  15\n",
       "3535  1000  3  47\n",
       "3536  1000  3  34\n",
       "\n",
       "[3537 rows x 3 columns]"
      ]
     },
     "execution_count": 4,
     "metadata": {},
     "output_type": "execute_result"
    }
   ],
   "source": [
    "df"
   ]
  },
  {
   "cell_type": "code",
   "execution_count": 5,
   "id": "3f91f970",
   "metadata": {},
   "outputs": [
    {
     "data": {
      "text/html": [
       "<div>\n",
       "<style scoped>\n",
       "    .dataframe tbody tr th:only-of-type {\n",
       "        vertical-align: middle;\n",
       "    }\n",
       "\n",
       "    .dataframe tbody tr th {\n",
       "        vertical-align: top;\n",
       "    }\n",
       "\n",
       "    .dataframe thead th {\n",
       "        text-align: right;\n",
       "    }\n",
       "</style>\n",
       "<table border=\"1\" class=\"dataframe\">\n",
       "  <thead>\n",
       "    <tr style=\"text-align: right;\">\n",
       "      <th></th>\n",
       "      <th>reciept no</th>\n",
       "      <th>food code</th>\n",
       "      <th>quantity</th>\n",
       "    </tr>\n",
       "  </thead>\n",
       "  <tbody>\n",
       "    <tr>\n",
       "      <th>0</th>\n",
       "      <td>1</td>\n",
       "      <td>4</td>\n",
       "      <td>15</td>\n",
       "    </tr>\n",
       "    <tr>\n",
       "      <th>1</th>\n",
       "      <td>1</td>\n",
       "      <td>2</td>\n",
       "      <td>49</td>\n",
       "    </tr>\n",
       "    <tr>\n",
       "      <th>2</th>\n",
       "      <td>1</td>\n",
       "      <td>5</td>\n",
       "      <td>44</td>\n",
       "    </tr>\n",
       "    <tr>\n",
       "      <th>3</th>\n",
       "      <td>2</td>\n",
       "      <td>1</td>\n",
       "      <td>1</td>\n",
       "    </tr>\n",
       "    <tr>\n",
       "      <th>4</th>\n",
       "      <td>2</td>\n",
       "      <td>2</td>\n",
       "      <td>19</td>\n",
       "    </tr>\n",
       "    <tr>\n",
       "      <th>...</th>\n",
       "      <td>...</td>\n",
       "      <td>...</td>\n",
       "      <td>...</td>\n",
       "    </tr>\n",
       "    <tr>\n",
       "      <th>3532</th>\n",
       "      <td>999</td>\n",
       "      <td>5</td>\n",
       "      <td>35</td>\n",
       "    </tr>\n",
       "    <tr>\n",
       "      <th>3533</th>\n",
       "      <td>999</td>\n",
       "      <td>2</td>\n",
       "      <td>3</td>\n",
       "    </tr>\n",
       "    <tr>\n",
       "      <th>3534</th>\n",
       "      <td>1000</td>\n",
       "      <td>4</td>\n",
       "      <td>15</td>\n",
       "    </tr>\n",
       "    <tr>\n",
       "      <th>3535</th>\n",
       "      <td>1000</td>\n",
       "      <td>3</td>\n",
       "      <td>47</td>\n",
       "    </tr>\n",
       "    <tr>\n",
       "      <th>3536</th>\n",
       "      <td>1000</td>\n",
       "      <td>3</td>\n",
       "      <td>34</td>\n",
       "    </tr>\n",
       "  </tbody>\n",
       "</table>\n",
       "<p>3537 rows × 3 columns</p>\n",
       "</div>"
      ],
      "text/plain": [
       "      reciept no  food code  quantity\n",
       "0              1          4        15\n",
       "1              1          2        49\n",
       "2              1          5        44\n",
       "3              2          1         1\n",
       "4              2          2        19\n",
       "...          ...        ...       ...\n",
       "3532         999          5        35\n",
       "3533         999          2         3\n",
       "3534        1000          4        15\n",
       "3535        1000          3        47\n",
       "3536        1000          3        34\n",
       "\n",
       "[3537 rows x 3 columns]"
      ]
     },
     "execution_count": 5,
     "metadata": {},
     "output_type": "execute_result"
    }
   ],
   "source": [
    "df.columns=['reciept no','food code','quantity']\n",
    "df"
   ]
  },
  {
   "cell_type": "code",
   "execution_count": 6,
   "id": "fa00ffd7",
   "metadata": {},
   "outputs": [],
   "source": [
    "df['food code'] = df['food code'].replace({1:\"milk\",2:\"sugar\",3:\"chocolate\",4:\"apples\",5:\"curd\"})"
   ]
  },
  {
   "cell_type": "code",
   "execution_count": 7,
   "id": "5b15a48d",
   "metadata": {},
   "outputs": [
    {
     "data": {
      "text/html": [
       "<div>\n",
       "<style scoped>\n",
       "    .dataframe tbody tr th:only-of-type {\n",
       "        vertical-align: middle;\n",
       "    }\n",
       "\n",
       "    .dataframe tbody tr th {\n",
       "        vertical-align: top;\n",
       "    }\n",
       "\n",
       "    .dataframe thead th {\n",
       "        text-align: right;\n",
       "    }\n",
       "</style>\n",
       "<table border=\"1\" class=\"dataframe\">\n",
       "  <thead>\n",
       "    <tr style=\"text-align: right;\">\n",
       "      <th></th>\n",
       "      <th>reciept no</th>\n",
       "      <th>food code</th>\n",
       "      <th>quantity</th>\n",
       "    </tr>\n",
       "  </thead>\n",
       "  <tbody>\n",
       "    <tr>\n",
       "      <th>0</th>\n",
       "      <td>1</td>\n",
       "      <td>apples</td>\n",
       "      <td>15</td>\n",
       "    </tr>\n",
       "    <tr>\n",
       "      <th>1</th>\n",
       "      <td>1</td>\n",
       "      <td>sugar</td>\n",
       "      <td>49</td>\n",
       "    </tr>\n",
       "    <tr>\n",
       "      <th>2</th>\n",
       "      <td>1</td>\n",
       "      <td>curd</td>\n",
       "      <td>44</td>\n",
       "    </tr>\n",
       "    <tr>\n",
       "      <th>3</th>\n",
       "      <td>2</td>\n",
       "      <td>milk</td>\n",
       "      <td>1</td>\n",
       "    </tr>\n",
       "    <tr>\n",
       "      <th>4</th>\n",
       "      <td>2</td>\n",
       "      <td>sugar</td>\n",
       "      <td>19</td>\n",
       "    </tr>\n",
       "    <tr>\n",
       "      <th>...</th>\n",
       "      <td>...</td>\n",
       "      <td>...</td>\n",
       "      <td>...</td>\n",
       "    </tr>\n",
       "    <tr>\n",
       "      <th>3532</th>\n",
       "      <td>999</td>\n",
       "      <td>curd</td>\n",
       "      <td>35</td>\n",
       "    </tr>\n",
       "    <tr>\n",
       "      <th>3533</th>\n",
       "      <td>999</td>\n",
       "      <td>sugar</td>\n",
       "      <td>3</td>\n",
       "    </tr>\n",
       "    <tr>\n",
       "      <th>3534</th>\n",
       "      <td>1000</td>\n",
       "      <td>apples</td>\n",
       "      <td>15</td>\n",
       "    </tr>\n",
       "    <tr>\n",
       "      <th>3535</th>\n",
       "      <td>1000</td>\n",
       "      <td>chocolate</td>\n",
       "      <td>47</td>\n",
       "    </tr>\n",
       "    <tr>\n",
       "      <th>3536</th>\n",
       "      <td>1000</td>\n",
       "      <td>chocolate</td>\n",
       "      <td>34</td>\n",
       "    </tr>\n",
       "  </tbody>\n",
       "</table>\n",
       "<p>3537 rows × 3 columns</p>\n",
       "</div>"
      ],
      "text/plain": [
       "      reciept no  food code  quantity\n",
       "0              1     apples        15\n",
       "1              1      sugar        49\n",
       "2              1       curd        44\n",
       "3              2       milk         1\n",
       "4              2      sugar        19\n",
       "...          ...        ...       ...\n",
       "3532         999       curd        35\n",
       "3533         999      sugar         3\n",
       "3534        1000     apples        15\n",
       "3535        1000  chocolate        47\n",
       "3536        1000  chocolate        34\n",
       "\n",
       "[3537 rows x 3 columns]"
      ]
     },
     "execution_count": 7,
     "metadata": {},
     "output_type": "execute_result"
    }
   ],
   "source": [
    "df"
   ]
  },
  {
   "cell_type": "code",
   "execution_count": 8,
   "id": "4ddf6eb7",
   "metadata": {},
   "outputs": [
    {
     "data": {
      "text/plain": [
       "reciept no\n",
       "1                                   [apples, sugar, curd]\n",
       "2                                           [milk, sugar]\n",
       "3                                            [milk, milk]\n",
       "4                    [milk, milk, curd, curd, milk, milk]\n",
       "5                     [apples, apples, sugar, curd, curd]\n",
       "                              ...                        \n",
       "996     [chocolate, sugar, chocolate, curd, chocolate,...\n",
       "997                      [chocolate, curd, apples, sugar]\n",
       "998                 [milk, chocolate, curd, apples, curd]\n",
       "999                                  [sugar, curd, sugar]\n",
       "1000                       [apples, chocolate, chocolate]\n",
       "Name: food code, Length: 1000, dtype: object"
      ]
     },
     "execution_count": 8,
     "metadata": {},
     "output_type": "execute_result"
    }
   ],
   "source": [
    "df_trans = df.groupby(\"reciept no\")[\"food code\"].apply(list)\n",
    "df_trans"
   ]
  },
  {
   "cell_type": "code",
   "execution_count": 16,
   "id": "fbe1f090",
   "metadata": {},
   "outputs": [],
   "source": [
    "itemsets, rules= apriori(df_trans, min_support=0.25 ,min_confidence=0.25)"
   ]
  },
  {
   "cell_type": "code",
   "execution_count": 17,
   "id": "2985c9f0",
   "metadata": {},
   "outputs": [
    {
     "data": {
      "text/plain": [
       "{1: {('apples',): 540,\n",
       "  ('sugar',): 498,\n",
       "  ('curd',): 493,\n",
       "  ('milk',): 542,\n",
       "  ('chocolate',): 506},\n",
       " 2: {('apples', 'chocolate'): 250,\n",
       "  ('apples', 'curd'): 264,\n",
       "  ('apples', 'milk'): 271,\n",
       "  ('apples', 'sugar'): 258,\n",
       "  ('chocolate', 'milk'): 251,\n",
       "  ('milk', 'sugar'): 254}}"
      ]
     },
     "execution_count": 17,
     "metadata": {},
     "output_type": "execute_result"
    }
   ],
   "source": [
    "itemsets"
   ]
  },
  {
   "cell_type": "code",
   "execution_count": 18,
   "id": "6f3d0e44",
   "metadata": {},
   "outputs": [
    {
     "data": {
      "text/plain": [
       "[{chocolate} -> {apples},\n",
       " {apples} -> {chocolate},\n",
       " {curd} -> {apples},\n",
       " {apples} -> {curd},\n",
       " {milk} -> {apples},\n",
       " {apples} -> {milk},\n",
       " {sugar} -> {apples},\n",
       " {apples} -> {sugar},\n",
       " {milk} -> {chocolate},\n",
       " {chocolate} -> {milk},\n",
       " {sugar} -> {milk},\n",
       " {milk} -> {sugar}]"
      ]
     },
     "execution_count": 18,
     "metadata": {},
     "output_type": "execute_result"
    }
   ],
   "source": [
    "rules"
   ]
  },
  {
   "cell_type": "code",
   "execution_count": null,
   "id": "540822c8",
   "metadata": {},
   "outputs": [],
   "source": []
  },
  {
   "cell_type": "code",
   "execution_count": 23,
   "id": "bf6a3067",
   "metadata": {},
   "outputs": [],
   "source": [
    "itemsets, rules= apriori(df_trans, min_support=0.16 ,min_confidence=0.16)\n"
   ]
  },
  {
   "cell_type": "code",
   "execution_count": 24,
   "id": "699ed188",
   "metadata": {},
   "outputs": [
    {
     "data": {
      "text/plain": [
       "{1: {('apples',): 540,\n",
       "  ('sugar',): 498,\n",
       "  ('curd',): 493,\n",
       "  ('milk',): 542,\n",
       "  ('chocolate',): 506},\n",
       " 2: {('apples', 'chocolate'): 250,\n",
       "  ('apples', 'curd'): 264,\n",
       "  ('apples', 'milk'): 271,\n",
       "  ('apples', 'sugar'): 258,\n",
       "  ('chocolate', 'curd'): 231,\n",
       "  ('chocolate', 'milk'): 251,\n",
       "  ('chocolate', 'sugar'): 239,\n",
       "  ('curd', 'milk'): 240,\n",
       "  ('curd', 'sugar'): 230,\n",
       "  ('milk', 'sugar'): 254}}"
      ]
     },
     "execution_count": 24,
     "metadata": {},
     "output_type": "execute_result"
    }
   ],
   "source": [
    "itemsets"
   ]
  },
  {
   "cell_type": "code",
   "execution_count": 25,
   "id": "06e8ba6f",
   "metadata": {},
   "outputs": [
    {
     "data": {
      "text/plain": [
       "[{chocolate} -> {apples},\n",
       " {apples} -> {chocolate},\n",
       " {curd} -> {apples},\n",
       " {apples} -> {curd},\n",
       " {milk} -> {apples},\n",
       " {apples} -> {milk},\n",
       " {sugar} -> {apples},\n",
       " {apples} -> {sugar},\n",
       " {curd} -> {chocolate},\n",
       " {chocolate} -> {curd},\n",
       " {milk} -> {chocolate},\n",
       " {chocolate} -> {milk},\n",
       " {sugar} -> {chocolate},\n",
       " {chocolate} -> {sugar},\n",
       " {milk} -> {curd},\n",
       " {curd} -> {milk},\n",
       " {sugar} -> {curd},\n",
       " {curd} -> {sugar},\n",
       " {sugar} -> {milk},\n",
       " {milk} -> {sugar}]"
      ]
     },
     "execution_count": 25,
     "metadata": {},
     "output_type": "execute_result"
    }
   ],
   "source": [
    "rules"
   ]
  }
 ],
 "metadata": {
  "kernelspec": {
   "display_name": "Python 3 (ipykernel)",
   "language": "python",
   "name": "python3"
  },
  "language_info": {
   "codemirror_mode": {
    "name": "ipython",
    "version": 3
   },
   "file_extension": ".py",
   "mimetype": "text/x-python",
   "name": "python",
   "nbconvert_exporter": "python",
   "pygments_lexer": "ipython3",
   "version": "3.9.13"
  }
 },
 "nbformat": 4,
 "nbformat_minor": 5
}
