{
 "cells": [
  {
   "cell_type": "markdown",
   "id": "a9efc0ba",
   "metadata": {},
   "source": [
    "# question2 dirty iris"
   ]
  },
  {
   "cell_type": "code",
   "execution_count": 3,
   "id": "5f8db1b0",
   "metadata": {},
   "outputs": [
    {
     "data": {
      "text/html": [
       "<div>\n",
       "<style scoped>\n",
       "    .dataframe tbody tr th:only-of-type {\n",
       "        vertical-align: middle;\n",
       "    }\n",
       "\n",
       "    .dataframe tbody tr th {\n",
       "        vertical-align: top;\n",
       "    }\n",
       "\n",
       "    .dataframe thead th {\n",
       "        text-align: right;\n",
       "    }\n",
       "</style>\n",
       "<table border=\"1\" class=\"dataframe\">\n",
       "  <thead>\n",
       "    <tr style=\"text-align: right;\">\n",
       "      <th></th>\n",
       "      <th>Sepal.Length</th>\n",
       "      <th>Sepal.Width</th>\n",
       "      <th>Petal.Length</th>\n",
       "      <th>Petal.Width</th>\n",
       "      <th>Species</th>\n",
       "    </tr>\n",
       "  </thead>\n",
       "  <tbody>\n",
       "    <tr>\n",
       "      <th>0</th>\n",
       "      <td>6.4</td>\n",
       "      <td>3.2</td>\n",
       "      <td>4.5</td>\n",
       "      <td>1.5</td>\n",
       "      <td>versicolor</td>\n",
       "    </tr>\n",
       "    <tr>\n",
       "      <th>1</th>\n",
       "      <td>6.3</td>\n",
       "      <td>3.3</td>\n",
       "      <td>6.0</td>\n",
       "      <td>2.5</td>\n",
       "      <td>virginica</td>\n",
       "    </tr>\n",
       "    <tr>\n",
       "      <th>2</th>\n",
       "      <td>6.2</td>\n",
       "      <td>NaN</td>\n",
       "      <td>5.4</td>\n",
       "      <td>2.3</td>\n",
       "      <td>virginica</td>\n",
       "    </tr>\n",
       "    <tr>\n",
       "      <th>3</th>\n",
       "      <td>5.0</td>\n",
       "      <td>3.4</td>\n",
       "      <td>1.6</td>\n",
       "      <td>0.4</td>\n",
       "      <td>setosa</td>\n",
       "    </tr>\n",
       "    <tr>\n",
       "      <th>4</th>\n",
       "      <td>5.7</td>\n",
       "      <td>2.6</td>\n",
       "      <td>3.5</td>\n",
       "      <td>1.0</td>\n",
       "      <td>versicolor</td>\n",
       "    </tr>\n",
       "    <tr>\n",
       "      <th>...</th>\n",
       "      <td>...</td>\n",
       "      <td>...</td>\n",
       "      <td>...</td>\n",
       "      <td>...</td>\n",
       "      <td>...</td>\n",
       "    </tr>\n",
       "    <tr>\n",
       "      <th>145</th>\n",
       "      <td>6.7</td>\n",
       "      <td>3.1</td>\n",
       "      <td>5.6</td>\n",
       "      <td>2.4</td>\n",
       "      <td>virginica</td>\n",
       "    </tr>\n",
       "    <tr>\n",
       "      <th>146</th>\n",
       "      <td>5.6</td>\n",
       "      <td>3.0</td>\n",
       "      <td>4.5</td>\n",
       "      <td>1.5</td>\n",
       "      <td>versicolor</td>\n",
       "    </tr>\n",
       "    <tr>\n",
       "      <th>147</th>\n",
       "      <td>5.2</td>\n",
       "      <td>3.5</td>\n",
       "      <td>1.5</td>\n",
       "      <td>0.2</td>\n",
       "      <td>setosa</td>\n",
       "    </tr>\n",
       "    <tr>\n",
       "      <th>148</th>\n",
       "      <td>6.4</td>\n",
       "      <td>3.1</td>\n",
       "      <td>NaN</td>\n",
       "      <td>1.8</td>\n",
       "      <td>virginica</td>\n",
       "    </tr>\n",
       "    <tr>\n",
       "      <th>149</th>\n",
       "      <td>5.8</td>\n",
       "      <td>2.6</td>\n",
       "      <td>4.0</td>\n",
       "      <td>NaN</td>\n",
       "      <td>versicolor</td>\n",
       "    </tr>\n",
       "  </tbody>\n",
       "</table>\n",
       "<p>150 rows × 5 columns</p>\n",
       "</div>"
      ],
      "text/plain": [
       "     Sepal.Length  Sepal.Width  Petal.Length  Petal.Width     Species\n",
       "0             6.4          3.2           4.5          1.5  versicolor\n",
       "1             6.3          3.3           6.0          2.5   virginica\n",
       "2             6.2          NaN           5.4          2.3   virginica\n",
       "3             5.0          3.4           1.6          0.4      setosa\n",
       "4             5.7          2.6           3.5          1.0  versicolor\n",
       "..            ...          ...           ...          ...         ...\n",
       "145           6.7          3.1           5.6          2.4   virginica\n",
       "146           5.6          3.0           4.5          1.5  versicolor\n",
       "147           5.2          3.5           1.5          0.2      setosa\n",
       "148           6.4          3.1           NaN          1.8   virginica\n",
       "149           5.8          2.6           4.0          NaN  versicolor\n",
       "\n",
       "[150 rows x 5 columns]"
      ]
     },
     "execution_count": 3,
     "metadata": {},
     "output_type": "execute_result"
    }
   ],
   "source": [
    "import pandas as pd\n",
    "import numpy as np\n",
    "df= pd.read_csv(r\"dirty_iris.csv\")\n",
    "df"
   ]
  },
  {
   "cell_type": "code",
   "execution_count": 4,
   "id": "4a9ac90c",
   "metadata": {},
   "outputs": [
    {
     "data": {
      "text/plain": [
       "150"
      ]
     },
     "execution_count": 4,
     "metadata": {},
     "output_type": "execute_result"
    }
   ],
   "source": [
    "ogrows=df.shape[0]\n",
    "ogrows"
   ]
  },
  {
   "cell_type": "code",
   "execution_count": 10,
   "id": "539c3229",
   "metadata": {},
   "outputs": [
    {
     "data": {
      "text/plain": [
       "96"
      ]
     },
     "execution_count": 10,
     "metadata": {},
     "output_type": "execute_result"
    }
   ],
   "source": [
    "#a \n",
    "data=df.dropna(thresh=5)\n",
    "newrows=data.shape[0]\n",
    "newrows"
   ]
  },
  {
   "cell_type": "code",
   "execution_count": 11,
   "id": "4f65057e",
   "metadata": {},
   "outputs": [
    {
     "data": {
      "text/plain": [
       "64.0"
      ]
     },
     "execution_count": 11,
     "metadata": {},
     "output_type": "execute_result"
    }
   ],
   "source": [
    "percentage= (newrows/ogrows)*100\n",
    "percentage"
   ]
  },
  {
   "cell_type": "code",
   "execution_count": 36,
   "id": "38968be1",
   "metadata": {},
   "outputs": [
    {
     "data": {
      "text/plain": [
       "array([ 6.4,  6.3,  6.2,  5. ,  5.7,  5.3,  5.9,  5.8,  4.8,  6. ,  6.8,\n",
       "        nan,  5.5,  4.7,  5.6,  4.9,  5.4,  6.7,  4.6, 73. ,  6.5,  4.4,\n",
       "        6.6,  0. ,  7.7,  7. ,  5.2,  5.1,  7.4,  4.3,  7.2,  6.1,  6.9,\n",
       "        7.6,  7.9,  4.5, 49. ])"
      ]
     },
     "execution_count": 36,
     "metadata": {},
     "output_type": "execute_result"
    }
   ],
   "source": [
    "df['Sepal.Length'].unique()"
   ]
  },
  {
   "cell_type": "code",
   "execution_count": 37,
   "id": "2256c4a3",
   "metadata": {},
   "outputs": [
    {
     "data": {
      "text/plain": [
       "array([ 3.2,  3.3,  nan,  3.4,  2.6,  2.7,  3. ,  3.1,  3.5,  2.8,  3.9,\n",
       "       -3. ,  4. ,  3.6, 29. ,  2.9,  2.2,  2.5,  4.2,  3.8,  2.3,  3.7,\n",
       "        4.1, 30. ,  0. ])"
      ]
     },
     "execution_count": 37,
     "metadata": {},
     "output_type": "execute_result"
    }
   ],
   "source": [
    "df['Sepal.Width'].unique()"
   ]
  },
  {
   "cell_type": "code",
   "execution_count": 38,
   "id": "c45e0a17",
   "metadata": {},
   "outputs": [
    {
     "data": {
      "text/plain": [
       "array([ 4.5  ,  6.   ,  5.4  ,  1.6  ,  3.5  ,    nan,  5.3  ,  5.1  ,\n",
       "        4.1  ,  4.8  ,  1.7  ,  4.   ,  1.3  ,  4.2  ,  5.7  ,  5.9  ,\n",
       "        1.4  ,  1.5  , 63.   ,  0.82 , 23.   ,  5.5  ,  5.8  ,  1.2  ,\n",
       "        3.9  ,  6.7  ,  4.7  ,  4.4  ,  5.6  ,  3.3  ,  6.1  ,  1.1  ,\n",
       "        4.9  ,  4.6  ,  6.6  ,  0.   ,  6.4  ,  5.2  ,  1.9  ,  4.3  ,\n",
       "        5.   ,  0.925,  6.9  , 14.   ,  3.6  ,  3.8  ])"
      ]
     },
     "execution_count": 38,
     "metadata": {},
     "output_type": "execute_result"
    }
   ],
   "source": [
    "df['Petal.Length'].unique()"
   ]
  },
  {
   "cell_type": "code",
   "execution_count": 39,
   "id": "639e8cbd",
   "metadata": {},
   "outputs": [
    {
     "data": {
      "text/plain": [
       "array([1.5, 2.5, 2.3, 0.4, 1. , 0.2, nan, 1.8, 0.6, 1.6, 1.4, 1.3, 0.1,\n",
       "       2.1, 2. , 1.2, 1.9, 2.2, 0.3, 1.1, inf, 1.7, 2.4, 0.5])"
      ]
     },
     "execution_count": 39,
     "metadata": {},
     "output_type": "execute_result"
    }
   ],
   "source": [
    "df['Petal.Width'].unique()"
   ]
  },
  {
   "cell_type": "code",
   "execution_count": 12,
   "id": "af860464",
   "metadata": {},
   "outputs": [
    {
     "name": "stderr",
     "output_type": "stream",
     "text": [
      "C:\\Users\\CSLab\\AppData\\Local\\Temp\\ipykernel_8220\\1704589696.py:2: SettingWithCopyWarning: \n",
      "A value is trying to be set on a copy of a slice from a DataFrame.\n",
      "Try using .loc[row_indexer,col_indexer] = value instead\n",
      "\n",
      "See the caveats in the documentation: https://pandas.pydata.org/pandas-docs/stable/user_guide/indexing.html#returning-a-view-versus-a-copy\n",
      "  data.replace({'Sepal.Length':[np.inf,\"#\",\"?\"],\"Sepal.Width\":[np.inf,\"#\",\"?\"],\"Petal.Length\":[np.inf,\"#\",\"?\"],\"Petal.Width\":[np.inf,\"#\",\"?\"],\"Species\":[np.inf,\"#\",\"?\"]},np.nan,inplace=True)\n"
     ]
    }
   ],
   "source": [
    "#b\n",
    "data.replace({'Sepal.Length':[np.inf,\"#\",\"?\"],\"Sepal.Width\":[np.inf,\"#\",\"?\"],\"Petal.Length\":[np.inf,\"#\",\"?\"],\"Petal.Width\":[np.inf,\"#\",\"?\"],\"Species\":[np.inf,\"#\",\"?\"]},np.nan,inplace=True)"
   ]
  },
  {
   "cell_type": "code",
   "execution_count": null,
   "id": "22beadda",
   "metadata": {},
   "outputs": [],
   "source": [
    "#c"
   ]
  },
  {
   "cell_type": "code",
   "execution_count": 13,
   "id": "c78f75fb",
   "metadata": {},
   "outputs": [],
   "source": [
    "rule1=data[\"Species\"].apply(lambda x:True if x==\"setosa\" or x==\"versicolor\" or x==\"virginica\" else False)"
   ]
  },
  {
   "cell_type": "code",
   "execution_count": 14,
   "id": "629f1ab0",
   "metadata": {},
   "outputs": [],
   "source": [
    "rule2= data.apply(lambda x: True if x[\"Sepal.Length\"]>=0 and x[\"Sepal.Width\"]>=0 and x[\"Petal.Length\"]>=0 and x[\"Petal.Width\"]>=0 else False,axis=1)"
   ]
  },
  {
   "cell_type": "code",
   "execution_count": 15,
   "id": "b7990b8b",
   "metadata": {},
   "outputs": [],
   "source": [
    "rule3=data.apply(lambda x: True if x[\"Petal.Length\"]>=2*x[\"Petal.Width\"] else False , axis=1)"
   ]
  },
  {
   "cell_type": "code",
   "execution_count": 16,
   "id": "3e72567b",
   "metadata": {},
   "outputs": [],
   "source": [
    "rule4= data[\"Sepal.Length\"].apply(lambda x: True if x<=30 else False)"
   ]
  },
  {
   "cell_type": "code",
   "execution_count": 17,
   "id": "f1e6aaae",
   "metadata": {},
   "outputs": [],
   "source": [
    "rule5= data.apply(lambda x: True if x[\"Sepal.Length\"]> x[\"Petal.Length\"] else False, axis=1)"
   ]
  },
  {
   "cell_type": "code",
   "execution_count": 18,
   "id": "affcd448",
   "metadata": {},
   "outputs": [],
   "source": [
    "Rules= pd.DataFrame({\"Rule1\":rule1,\"Rule2\":rule2,\"Rule3\":rule3,\"Rule4\":rule4,\"Rule5\":rule5})"
   ]
  },
  {
   "cell_type": "code",
   "execution_count": 19,
   "id": "fcb7a72e",
   "metadata": {},
   "outputs": [
    {
     "data": {
      "text/html": [
       "<div>\n",
       "<style scoped>\n",
       "    .dataframe tbody tr th:only-of-type {\n",
       "        vertical-align: middle;\n",
       "    }\n",
       "\n",
       "    .dataframe tbody tr th {\n",
       "        vertical-align: top;\n",
       "    }\n",
       "\n",
       "    .dataframe thead th {\n",
       "        text-align: right;\n",
       "    }\n",
       "</style>\n",
       "<table border=\"1\" class=\"dataframe\">\n",
       "  <thead>\n",
       "    <tr style=\"text-align: right;\">\n",
       "      <th></th>\n",
       "      <th>Rule1</th>\n",
       "      <th>Rule2</th>\n",
       "      <th>Rule3</th>\n",
       "      <th>Rule4</th>\n",
       "      <th>Rule5</th>\n",
       "    </tr>\n",
       "  </thead>\n",
       "  <tbody>\n",
       "    <tr>\n",
       "      <th>0</th>\n",
       "      <td>True</td>\n",
       "      <td>True</td>\n",
       "      <td>True</td>\n",
       "      <td>True</td>\n",
       "      <td>True</td>\n",
       "    </tr>\n",
       "    <tr>\n",
       "      <th>1</th>\n",
       "      <td>True</td>\n",
       "      <td>True</td>\n",
       "      <td>True</td>\n",
       "      <td>True</td>\n",
       "      <td>True</td>\n",
       "    </tr>\n",
       "    <tr>\n",
       "      <th>3</th>\n",
       "      <td>True</td>\n",
       "      <td>True</td>\n",
       "      <td>True</td>\n",
       "      <td>True</td>\n",
       "      <td>True</td>\n",
       "    </tr>\n",
       "    <tr>\n",
       "      <th>4</th>\n",
       "      <td>True</td>\n",
       "      <td>True</td>\n",
       "      <td>True</td>\n",
       "      <td>True</td>\n",
       "      <td>True</td>\n",
       "    </tr>\n",
       "    <tr>\n",
       "      <th>7</th>\n",
       "      <td>True</td>\n",
       "      <td>True</td>\n",
       "      <td>True</td>\n",
       "      <td>True</td>\n",
       "      <td>True</td>\n",
       "    </tr>\n",
       "    <tr>\n",
       "      <th>...</th>\n",
       "      <td>...</td>\n",
       "      <td>...</td>\n",
       "      <td>...</td>\n",
       "      <td>...</td>\n",
       "      <td>...</td>\n",
       "    </tr>\n",
       "    <tr>\n",
       "      <th>143</th>\n",
       "      <td>True</td>\n",
       "      <td>True</td>\n",
       "      <td>True</td>\n",
       "      <td>True</td>\n",
       "      <td>True</td>\n",
       "    </tr>\n",
       "    <tr>\n",
       "      <th>144</th>\n",
       "      <td>True</td>\n",
       "      <td>True</td>\n",
       "      <td>True</td>\n",
       "      <td>True</td>\n",
       "      <td>True</td>\n",
       "    </tr>\n",
       "    <tr>\n",
       "      <th>145</th>\n",
       "      <td>True</td>\n",
       "      <td>True</td>\n",
       "      <td>True</td>\n",
       "      <td>True</td>\n",
       "      <td>True</td>\n",
       "    </tr>\n",
       "    <tr>\n",
       "      <th>146</th>\n",
       "      <td>True</td>\n",
       "      <td>True</td>\n",
       "      <td>True</td>\n",
       "      <td>True</td>\n",
       "      <td>True</td>\n",
       "    </tr>\n",
       "    <tr>\n",
       "      <th>147</th>\n",
       "      <td>True</td>\n",
       "      <td>True</td>\n",
       "      <td>True</td>\n",
       "      <td>True</td>\n",
       "      <td>True</td>\n",
       "    </tr>\n",
       "  </tbody>\n",
       "</table>\n",
       "<p>96 rows × 5 columns</p>\n",
       "</div>"
      ],
      "text/plain": [
       "     Rule1  Rule2  Rule3  Rule4  Rule5\n",
       "0     True   True   True   True   True\n",
       "1     True   True   True   True   True\n",
       "3     True   True   True   True   True\n",
       "4     True   True   True   True   True\n",
       "7     True   True   True   True   True\n",
       "..     ...    ...    ...    ...    ...\n",
       "143   True   True   True   True   True\n",
       "144   True   True   True   True   True\n",
       "145   True   True   True   True   True\n",
       "146   True   True   True   True   True\n",
       "147   True   True   True   True   True\n",
       "\n",
       "[96 rows x 5 columns]"
      ]
     },
     "execution_count": 19,
     "metadata": {},
     "output_type": "execute_result"
    }
   ],
   "source": [
    "Rules"
   ]
  },
  {
   "cell_type": "code",
   "execution_count": 20,
   "id": "66969de4",
   "metadata": {},
   "outputs": [
    {
     "name": "stdout",
     "output_type": "stream",
     "text": [
      "Violations->\n",
      "Rule1    0\n",
      "Rule2    2\n",
      "Rule3    2\n",
      "Rule4    1\n",
      "Rule5    1\n",
      "dtype: int64\n"
     ]
    }
   ],
   "source": [
    "#d\n",
    "data2=Rules.apply(lambda x: len(x)-x.sum())\n",
    "print(\"Violations->\")\n",
    "print(data2)"
   ]
  },
  {
   "cell_type": "code",
   "execution_count": 22,
   "id": "8b977268",
   "metadata": {},
   "outputs": [
    {
     "data": {
      "text/plain": [
       "Text(0.5, 1.0, 'RULES VS NO. OF VIOLATIONS')"
      ]
     },
     "execution_count": 22,
     "metadata": {},
     "output_type": "execute_result"
    },
    {
     "data": {
      "image/png": "[encoded data removed]",
      "text/plain": [
       "<Figure size 640x480 with 1 Axes>"
      ]
     },
     "metadata": {},
     "output_type": "display_data"
    }
   ],
   "source": [
    "import matplotlib.pyplot as plt\n",
    "plt.figure()\n",
    "data2.plot(kind=\"bar\")\n",
    "plt.xlabel(\"Rules\")\n",
    "plt.ylabel(\"No. of violations\")\n",
    "plt.title(\"RULES VS NO. OF VIOLATIONS\")"
   ]
  },
  {
   "cell_type": "code",
   "execution_count": 23,
   "id": "31aeec15",
   "metadata": {},
   "outputs": [
    {
     "name": "stderr",
     "output_type": "stream",
     "text": [
      "C:\\Users\\CSLab\\anaconda3\\lib\\site-packages\\seaborn\\_decorators.py:36: FutureWarning: Pass the following variable as a keyword arg: x. From version 0.12, the only valid positional argument will be `data`, and passing other arguments without an explicit keyword will result in an error or misinterpretation.\n",
      "  warnings.warn(\n"
     ]
    },
    {
     "data": {
      "text/plain": [
       "<AxesSubplot:xlabel='Sepal.Length'>"
      ]
     },
     "execution_count": 23,
     "metadata": {},
     "output_type": "execute_result"
    },
    {
     "data": {
      "image/png": "[encoded data removed]",
      "text/plain": [
       "<Figure size 640x480 with 1 Axes>"
      ]
     },
     "metadata": {},
     "output_type": "display_data"
    }
   ],
   "source": [
    "#e\n",
    "x=data[\"Sepal.Length\"]\n",
    "import seaborn as sns\n",
    "sns.boxplot(x)"
   ]
  },
  {
   "cell_type": "code",
   "execution_count": 24,
   "id": "fab18d13",
   "metadata": {},
   "outputs": [
    {
     "data": {
      "text/plain": [
       "count    96.000000\n",
       "mean      6.319792\n",
       "std       4.482918\n",
       "min       4.300000\n",
       "25%       5.100000\n",
       "50%       5.800000\n",
       "75%       6.500000\n",
       "max      49.000000\n",
       "Name: Sepal.Length, dtype: float64"
      ]
     },
     "execution_count": 24,
     "metadata": {},
     "output_type": "execute_result"
    }
   ],
   "source": [
    "x.describe()"
   ]
  }
 ],
 "metadata": {
  "kernelspec": {
   "display_name": "Python 3 (ipykernel)",
   "language": "python",
   "name": "python3"
  },
  "language_info": {
   "codemirror_mode": {
    "name": "ipython",
    "version": 3
   },
   "file_extension": ".py",
   "mimetype": "text/x-python",
   "name": "python",
   "nbconvert_exporter": "python",
   "pygments_lexer": "ipython3",
   "version": "3.9.13"
  }
 },
 "nbformat": 4,
 "nbformat_minor": 5
}
